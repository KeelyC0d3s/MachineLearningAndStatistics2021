{
 "cells": [
  {
   "cell_type": "markdown",
   "metadata": {},
   "source": [
    "# scipy.stats\n",
    "### Overview\n",
    "\n",
    "*scipy.stats* is a statistics library for python. It contains a large number of probability distribution and statistical functions[1] \n",
    "\n",
    "For the sake of continuity, I will use the iris dataset to demonstrate some algorithms of the scipy.stats library, specifically t-tests and ANOVA (analysis of variants)."
   ]
  },
  {
   "cell_type": "markdown",
   "metadata": {},
   "source": [
    "## Fisher’s Iris Dataset¶\n",
    "Introduced by British statistician and biologist Ronald Fisher in his 1936 paper entitled “The use of multiple measurements in taxonomic problems”. It is an example of linear discriminate analysis. The dataset gives the measurements in centimetres of the sepal length and width and petal length and width of 50 flowers from each species of iris: setosa, versicolor, and virginica. The dataset contains a set of 150 records of 5 attributes: Sepal length in cm Sepal width in cm Petal length in cm Petal width in cm Species of iris: setosa, versicolor, virginica[2, 3]"
   ]
  },
  {
   "cell_type": "markdown",
   "metadata": {},
   "source": [
    "## T TESTS\n",
    "\n",
    "T-tests are used to \"quantify the difference of arithmetic means between two samples of data\" [11].\n",
    "For example, if we wanted to observe two samples of petal length and try to determine whether or not they are from the same population of the same species or if the two samples are from different populations of the same species, we could run a t-test and figure that out [Ibid]."
   ]
  },
  {
   "cell_type": "markdown",
   "metadata": {},
   "source": [
    "### Install Packages"
   ]
  },
  {
   "cell_type": "code",
   "execution_count": 15,
   "metadata": {},
   "outputs": [],
   "source": [
    "# Efficient numerical arrays.\n",
    "import numpy as np\n",
    "\n",
    "# Data frames.\n",
    "import pandas as pd\n",
    "\n",
    "# Alternative statistics package.\n",
    "import statsmodels.stats.weightstats as stats\n",
    "\n",
    "# Mains statistics package.\n",
    "import scipy.stats as ss\n",
    "\n",
    "# Plotting.\n",
    "import matplotlib.pyplot as plt\n",
    "\n",
    "# Fancier plotting.\n",
    "import seaborn as sns\n",
    "\n",
    "# Better sized plots.\n",
    "plt.rcParams['figure.figsize'] = (12, 8)\n",
    "\n",
    "# Nicer colours and styles for plots.\n",
    "plt.style.use(\"ggplot\")"
   ]
  },
  {
   "cell_type": "markdown",
   "metadata": {},
   "source": [
    "## Importing the Data¶\n",
    "Downloading the Iris dataset from the internet using the panda and sys libraries which will show the first few rows of data."
   ]
  },
  {
   "cell_type": "code",
   "execution_count": 16,
   "metadata": {},
   "outputs": [
    {
     "name": "stdout",
     "output_type": "stream",
     "text": [
      "     sepal_length  sepal_width  petal_length  petal_width    variety\n",
      "0             5.1          3.5           1.4          0.2     Setosa\n",
      "1             4.9          3.0           1.4          0.2     Setosa\n",
      "2             4.7          3.2           1.3          0.2     Setosa\n",
      "3             4.6          3.1           1.5          0.2     Setosa\n",
      "4             5.0          3.6           1.4          0.2     Setosa\n",
      "..            ...          ...           ...          ...        ...\n",
      "145           6.7          3.0           5.2          2.3  Virginica\n",
      "146           6.3          2.5           5.0          1.9  Virginica\n",
      "147           6.5          3.0           5.2          2.0  Virginica\n",
      "148           6.2          3.4           5.4          2.3  Virginica\n",
      "149           5.9          3.0           5.1          1.8  Virginica\n",
      "\n",
      "[150 rows x 5 columns]\n"
     ]
    }
   ],
   "source": [
    "import sys\n",
    "import pandas as pd\n",
    "#Downloaded iris dataset from https://tinyurl.com/y8fovkyq\n",
    "\n",
    "# sys.stdout = open(\"variables_summary.txt\", \"w\")\n",
    "\n",
    "iris_data = pd.read_csv('data.csv')\n",
    "\n",
    "iris_data.columns = ['sepal_length', 'sepal_width',\n",
    "                     'petal_length', 'petal_width', 'variety']\n",
    "\n",
    "iris_data.head(10)\n",
    "\n",
    "iris_data.shape\n",
    "print(iris_data)"
   ]
  },
  {
   "cell_type": "markdown",
   "metadata": {},
   "source": [
    "## T-Test with Iris Dataset"
   ]
  },
  {
   "cell_type": "code",
   "execution_count": 17,
   "metadata": {},
   "outputs": [],
   "source": [
    "# Load the iris data set \n",
    "iris_data = pd.read_csv('data.csv')"
   ]
  },
  {
   "cell_type": "code",
   "execution_count": 18,
   "metadata": {},
   "outputs": [],
   "source": [
    "s = iris_data[iris_data['variety'] == 'Setosa']\n",
    "r = iris_data[iris_data['variety'] == 'Versicolor']\n",
    "a = iris_data[iris_data['variety'] == 'Virginica']"
   ]
  },
  {
   "cell_type": "code",
   "execution_count": 19,
   "metadata": {},
   "outputs": [
    {
     "name": "stdout",
     "output_type": "stream",
     "text": [
      "(-39.4927193915381, 5.404910513441677e-62, 98.0)\n",
      "(-49.98618625709594, 1.5048006992427275e-71, 98.0)\n",
      "(-12.603779441384978, 3.1788195478062863e-22, 98.0)\n",
      "(-34.080341543577205, 3.831095388247998e-56, 98.0)\n",
      "(-42.785797519617184, 3.230374818431894e-65, 98.0)\n",
      "(-14.62536704741013, 2.230409071025008e-26, 98.0)\n",
      "(-10.52098626754912, 8.985235037486755e-18, 98.0)\n",
      "(-15.386195820079424, 6.892546060673468e-28, 98.0)\n",
      "(-5.62916525971981, 1.724856302454731e-07, 98.0)\n",
      "(9.454975848128605, 1.84525994547684e-15, 98.0)\n",
      "(6.450349089630736, 4.246355381844788e-09, 98.0)\n",
      "(-3.2057607502218186, 0.0018191004238894803, 98.0)\n"
     ]
    }
   ],
   "source": [
    "print(stats.ttest_ind(s['petal_length'], r['petal_length']))\n",
    "print(stats.ttest_ind(s['petal_length'], a['petal_length']))\n",
    "print(stats.ttest_ind(r['petal_length'], a['petal_length']))\n",
    "\n",
    "print(stats.ttest_ind(s['petal_width'], r['petal_width']))\n",
    "print(stats.ttest_ind(s['petal_width'], a['petal_width']))\n",
    "print(stats.ttest_ind(r['petal_width'], a['petal_width']))\n",
    "\n",
    "print(stats.ttest_ind(s['sepal_length'], r['sepal_length']))\n",
    "print(stats.ttest_ind(s['sepal_length'], a['sepal_length']))\n",
    "print(stats.ttest_ind(r['sepal_length'], a['sepal_length']))\n",
    "\n",
    "print(stats.ttest_ind(s['sepal_width'], r['sepal_width']))\n",
    "print(stats.ttest_ind(s['sepal_width'], a['sepal_width']))\n",
    "print(stats.ttest_ind(r['sepal_width'], a['sepal_width']))"
   ]
  },
  {
   "cell_type": "code",
   "execution_count": 20,
   "metadata": {},
   "outputs": [
    {
     "data": {
      "image/png": "[encoded data removed]",
      "text/plain": [
       "<Figure size 864x576 with 1 Axes>"
      ]
     },
     "metadata": {},
     "output_type": "display_data"
    }
   ],
   "source": [
    "plt.hist(r['petal_length'], label='Versicolor Petal Length')\n",
    "plt.hist(a['petal_length'], label='Virginica Petal Length')\n",
    "\n",
    "plt.legend()\n",
    "\n",
    "plt.show()"
   ]
  },
  {
   "cell_type": "code",
   "execution_count": 11,
   "metadata": {},
   "outputs": [
    {
     "data": {
      "text/plain": [
       "0.45963991233736334"
      ]
     },
     "execution_count": 11,
     "metadata": {},
     "output_type": "execute_result"
    }
   ],
   "source": [
    "1- ((0.95)**12)"
   ]
  },
  {
   "cell_type": "code",
   "execution_count": 30,
   "metadata": {},
   "outputs": [
    {
     "data": {
      "text/plain": [
       "F_onewayResult(statistic=1180.161182252981, pvalue=2.8567766109615584e-91)"
      ]
     },
     "execution_count": 30,
     "metadata": {},
     "output_type": "execute_result"
    }
   ],
   "source": [
    "ss.f_oneway(s['petal_length'], r['petal_length'], a['petal_length'])"
   ]
  },
  {
   "cell_type": "code",
   "execution_count": 13,
   "metadata": {},
   "outputs": [
    {
     "data": {
      "image/png": "[encoded data removed]",
      "text/plain": [
       "<Figure size 864x576 with 1 Axes>"
      ]
     },
     "metadata": {},
     "output_type": "display_data"
    }
   ],
   "source": [
    "plt.hist(s['petal_length'], label='Setosa Petal Length')\n",
    "plt.hist(r['petal_length'], label='Versicolor Petal Length')\n",
    "plt.hist(a['petal_length'], label='Virginica Petal Length')\n",
    "\n",
    "plt.legend()\n",
    "\n",
    "plt.show()"
   ]
  },
  {
   "cell_type": "markdown",
   "metadata": {},
   "source": [
    "# ANOVA (one-way)\n",
    "\n",
    "https://statistics.laerd.com/spss-tutorials/one-way-anova-using-spss-statistics.php\n",
    " \n",
    "\n",
    "\"The one-way analysis of variance (ANOVA) is used to determine whether there are any statistically significant differences between the means of two or more independent (unrelated) groups (although you tend to only see it used when there are a minimum of three, rather than two groups)\"[12]. In our case there are four numerical variables (sepal length, sepal width, petal length, and petal width) and 1 categorical variable (species - setosa, virginica, and versicolor)."
   ]
  },
  {
   "cell_type": "markdown",
   "metadata": {},
   "source": [
    "#### First thing to do will be to choose our independent and dependent variables from the data set."
   ]
  },
  {
   "cell_type": "markdown",
   "metadata": {},
   "source": [
    "## Import Libraries"
   ]
  },
  {
   "cell_type": "code",
   "execution_count": 2,
   "metadata": {},
   "outputs": [],
   "source": [
    "\n",
    "# Data frames.\n",
    "import pandas as pd\n",
    "\n",
    "# Plotting.\n",
    "import seaborn as sns\n",
    "\n",
    "# Stats.\n",
    "import scipy.stats as ss\n",
    "\n",
    "# Numerical arrays.\n",
    "import numpy as np\n",
    "\n",
    "# Collections.\n",
    "import collections as co\n",
    "\n",
    "# Specials.\n",
    "import scipy.special as spec"
   ]
  },
  {
   "cell_type": "markdown",
   "metadata": {},
   "source": [
    "## Import Dataset"
   ]
  },
  {
   "cell_type": "code",
   "execution_count": 3,
   "metadata": {},
   "outputs": [],
   "source": [
    "# Load the iris data set \n",
    "iris_data = pd.read_csv('data.csv')"
   ]
  },
  {
   "cell_type": "markdown",
   "metadata": {},
   "source": [
    "#### Next step is to determine our assumptions based off of the requirement assumptions for ANOVA per: https://statistics.laerd.com/spss-tutorials/one-way-anova-using-spss-statistics.php"
   ]
  },
  {
   "cell_type": "markdown",
   "metadata": {},
   "source": [
    "### Assumption 1: Dependent variable"
   ]
  },
  {
   "cell_type": "code",
   "execution_count": 4,
   "metadata": {},
   "outputs": [
    {
     "data": {
      "text/plain": [
       "0      1.4\n",
       "1      1.4\n",
       "2      1.3\n",
       "3      1.5\n",
       "4      1.4\n",
       "      ... \n",
       "145    5.2\n",
       "146    5.0\n",
       "147    5.2\n",
       "148    5.4\n",
       "149    5.1\n",
       "Name: petal_length, Length: 150, dtype: float64"
      ]
     },
     "execution_count": 4,
     "metadata": {},
     "output_type": "execute_result"
    }
   ],
   "source": [
    "# The dependent variable.\n",
    "dependent = iris_data['petal_length']\n",
    "dependent"
   ]
  },
  {
   "cell_type": "code",
   "execution_count": 5,
   "metadata": {},
   "outputs": [
    {
     "data": {
      "text/plain": [
       "count    150.000000\n",
       "mean       3.758000\n",
       "std        1.765298\n",
       "min        1.000000\n",
       "25%        1.600000\n",
       "50%        4.350000\n",
       "75%        5.100000\n",
       "max        6.900000\n",
       "Name: petal_length, dtype: float64"
      ]
     },
     "execution_count": 5,
     "metadata": {},
     "output_type": "execute_result"
    }
   ],
   "source": [
    "dependent.describe()"
   ]
  },
  {
   "cell_type": "markdown",
   "metadata": {},
   "source": [
    "### Assumption 2: Independent variable"
   ]
  },
  {
   "cell_type": "code",
   "execution_count": 6,
   "metadata": {},
   "outputs": [
    {
     "data": {
      "text/plain": [
       "0         Setosa\n",
       "1         Setosa\n",
       "2         Setosa\n",
       "3         Setosa\n",
       "4         Setosa\n",
       "         ...    \n",
       "145    Virginica\n",
       "146    Virginica\n",
       "147    Virginica\n",
       "148    Virginica\n",
       "149    Virginica\n",
       "Name: variety, Length: 150, dtype: object"
      ]
     },
     "execution_count": 6,
     "metadata": {},
     "output_type": "execute_result"
    }
   ],
   "source": [
    "# Independent variable.\n",
    "independent = iris_data['variety']\n",
    "independent"
   ]
  },
  {
   "cell_type": "markdown",
   "metadata": {},
   "source": [
    "### Assumption 4: Outliers\n",
    "\n",
    "Ideally there should be no significant outliers in our data."
   ]
  },
  {
   "cell_type": "code",
   "execution_count": 7,
   "metadata": {},
   "outputs": [
    {
     "data": {
      "text/plain": [
       "<matplotlib.axes._subplots.AxesSubplot at 0x7ff6dfa63970>"
      ]
     },
     "execution_count": 7,
     "metadata": {},
     "output_type": "execute_result"
    },
    {
     "data": {
      "image/png": "[encoded data removed]",
      "text/plain": [
       "<Figure size 432x288 with 1 Axes>"
      ]
     },
     "metadata": {
      "needs_background": "light"
     },
     "output_type": "display_data"
    }
   ],
   "source": [
    "# https://seaborn.pydata.org/generated/seaborn.boxplot.html\n",
    "sns.boxplot(x=dependent, y=independent)"
   ]
  },
  {
   "cell_type": "markdown",
   "metadata": {},
   "source": [
    "#### In the above boxplot, we can see that there are a few outliers, one for the versicolor and three for the setosa."
   ]
  },
  {
   "cell_type": "markdown",
   "metadata": {},
   "source": [
    "### Assumption 5: Normality\n",
    "https://docs.scipy.org/doc/scipy/reference/generated/scipy.stats.shapiro.html\n",
    "\n",
    "https://statistics.laerd.com/spss-tutorials/testing-for-normality-using-spss-statistics.php\n",
    "\n",
    "The normality assumption has to do with normal distribution. We use the Shapiro-Wilk test to check for normal distribution of our data and hope to see a 'bell curve' in our plot."
   ]
  },
  {
   "cell_type": "code",
   "execution_count": 8,
   "metadata": {},
   "outputs": [
    {
     "data": {
      "text/plain": [
       "0     1.4\n",
       "1     1.4\n",
       "2     1.3\n",
       "3     1.5\n",
       "4     1.4\n",
       "5     1.7\n",
       "6     1.4\n",
       "7     1.5\n",
       "8     1.4\n",
       "9     1.5\n",
       "10    1.5\n",
       "11    1.6\n",
       "12    1.4\n",
       "13    1.1\n",
       "14    1.2\n",
       "15    1.5\n",
       "16    1.3\n",
       "17    1.4\n",
       "18    1.7\n",
       "19    1.5\n",
       "20    1.7\n",
       "21    1.5\n",
       "22    1.0\n",
       "23    1.7\n",
       "24    1.9\n",
       "25    1.6\n",
       "26    1.6\n",
       "27    1.5\n",
       "28    1.4\n",
       "29    1.6\n",
       "30    1.6\n",
       "31    1.5\n",
       "32    1.5\n",
       "33    1.4\n",
       "34    1.5\n",
       "35    1.2\n",
       "36    1.3\n",
       "37    1.4\n",
       "38    1.3\n",
       "39    1.5\n",
       "40    1.3\n",
       "41    1.3\n",
       "42    1.3\n",
       "43    1.6\n",
       "44    1.9\n",
       "45    1.4\n",
       "46    1.6\n",
       "47    1.4\n",
       "48    1.5\n",
       "49    1.4\n",
       "Name: petal_length, dtype: float64"
      ]
     },
     "execution_count": 8,
     "metadata": {},
     "output_type": "execute_result"
    }
   ],
   "source": [
    "# Extract the setosa petal lengths.\n",
    "petal_len_setosa = dependent[independent == 'Setosa']\n",
    "petal_len_setosa"
   ]
  },
  {
   "cell_type": "code",
   "execution_count": 9,
   "metadata": {},
   "outputs": [
    {
     "data": {
      "text/plain": [
       "ShapiroResult(statistic=0.9549766182899475, pvalue=0.05481043830513954)"
      ]
     },
     "execution_count": 9,
     "metadata": {},
     "output_type": "execute_result"
    }
   ],
   "source": [
    "# Run the Shapiro-Wilk test.\n",
    "ss.shapiro(petal_len_setosa)"
   ]
  },
  {
   "cell_type": "code",
   "execution_count": 10,
   "metadata": {},
   "outputs": [
    {
     "data": {
      "text/plain": [
       "ShapiroResult(statistic=0.9660047888755798, pvalue=0.1584833413362503)"
      ]
     },
     "execution_count": 10,
     "metadata": {},
     "output_type": "execute_result"
    }
   ],
   "source": [
    "# Run the test for the versicolors.\n",
    "ss.shapiro(dependent[independent == 'Versicolor'])"
   ]
  },
  {
   "cell_type": "code",
   "execution_count": 11,
   "metadata": {},
   "outputs": [
    {
     "data": {
      "text/plain": [
       "ShapiroResult(statistic=0.9621862769126892, pvalue=0.10977369546890259)"
      ]
     },
     "execution_count": 11,
     "metadata": {},
     "output_type": "execute_result"
    }
   ],
   "source": [
    "# Run the test for the virginica.\n",
    "ss.shapiro(dependent[independent == 'Virginica'])"
   ]
  },
  {
   "cell_type": "code",
   "execution_count": 12,
   "metadata": {},
   "outputs": [
    {
     "data": {
      "text/plain": [
       "<seaborn.axisgrid.FacetGrid at 0x7ff6dfb94640>"
      ]
     },
     "execution_count": 12,
     "metadata": {},
     "output_type": "execute_result"
    },
    {
     "data": {
      "image/png": "[encoded data removed]",
      "text/plain": [
       "<Figure size 445x360 with 1 Axes>"
      ]
     },
     "metadata": {
      "needs_background": "light"
     },
     "output_type": "display_data"
    }
   ],
   "source": [
    "# Kernel Density Estimators of the three categories.\n",
    "sns.displot(x=dependent, hue=independent, kind=\"kde\")"
   ]
  },
  {
   "cell_type": "markdown",
   "metadata": {},
   "source": [
    "#### After running the Shapiro-Wilk test, we can see both numerically and graphically that our data is normally distributed."
   ]
  },
  {
   "cell_type": "markdown",
   "metadata": {},
   "source": [
    "### Assumption 6: Homogeneity of Variances\n",
    "https://docs.scipy.org/doc/scipy/reference/generated/scipy.stats.levene.html\n",
    "\n",
    "To test whether or not the variances are the same, we'll use the Levene Test.\n",
    "This test \"tests the null hypothesis that all input samples are from populations with equal variances\"[15].\n",
    "\n",
    "https://statistics.laerd.com/statistical-guides/independent-t-test-statistical-guide.php"
   ]
  },
  {
   "cell_type": "code",
   "execution_count": 26,
   "metadata": {},
   "outputs": [
    {
     "data": {
      "text/plain": [
       "LeveneResult(statistic=19.480338801923573, pvalue=3.1287566394085344e-08)"
      ]
     },
     "execution_count": 26,
     "metadata": {},
     "output_type": "execute_result"
    }
   ],
   "source": [
    "# Test for equal variances.\n",
    "ss.levene(\n",
    "    dependent[independent == 'Setosa'],\n",
    "    dependent[independent == 'Versicolor'],\n",
    "    dependent[independent == 'Virginica']\n",
    ")"
   ]
  },
  {
   "cell_type": "markdown",
   "metadata": {},
   "source": [
    "### One-way ANOVA\n",
    "As the boxplot above shows that there are outliers in Assumption 4 and we can see in the Levene test in Assumption 6, the variances are not equal. Therefore we'll run the one-way ANOVA to test if the mean petal lengths across all three species are the same."
   ]
  },
  {
   "cell_type": "code",
   "execution_count": 13,
   "metadata": {},
   "outputs": [
    {
     "data": {
      "text/plain": [
       "F_onewayResult(statistic=1180.161182252981, pvalue=2.8567766109615584e-91)"
      ]
     },
     "execution_count": 13,
     "metadata": {},
     "output_type": "execute_result"
    }
   ],
   "source": [
    "# ANOVA.\n",
    "ss.f_oneway(\n",
    "    dependent[independent == 'Setosa'],\n",
    "    dependent[independent == 'Versicolor'],\n",
    "    dependent[independent == 'Virginica']\n",
    ")"
   ]
  },
  {
   "cell_type": "markdown",
   "metadata": {},
   "source": [
    "#### Conclusion: the mean petal lengths of setosas, versicolors, and virginicas are different."
   ]
  },
  {
   "cell_type": "markdown",
   "metadata": {},
   "source": [
    "### Unequal Variances\n",
    "https://github.com/scipy/scipy/issues/11122#issuecomment-587964214\n",
    "\n",
    "Since the variances are not homogeneous, we must in this case run a Welch ANOVA test:\n",
    "\"Welch’s ANOVA compares two means to see if they are equal. It is an alternative to the Classic ANOVA and can be used even if your data violates the assumption of homogeneity of variances.\n",
    "\n",
    "You should run Welch’s test in all cases where you have normally distributed data that violates the assumption of homogeneity of variance\"[14]. "
   ]
  },
  {
   "cell_type": "code",
   "execution_count": 28,
   "metadata": {},
   "outputs": [],
   "source": [
    "#Code copied directly from Dr. Ian McLoughlin's NoteBook. \n",
    "\n",
    "def welch_anova_np(*args, var_equal=False):\n",
    "    # https://svn.r-project.org/R/trunk/src/library/stats/R/oneway.test.R\n",
    "    # translated from R Welch ANOVA (not assuming equal variance)\n",
    "\n",
    "    F_onewayResult = co.namedtuple('F_onewayResult', ('statistic', 'pvalue'))\n",
    "\n",
    "    args = [np.asarray(arg, dtype=float) for arg in args]\n",
    "    k = len(args)\n",
    "    ni = np.array([len(arg) for arg in args])\n",
    "    mi = np.array([np.mean(arg) for arg in args])\n",
    "    vi = np.array([np.var(arg,ddof=1) for arg in args])\n",
    "    wi = ni/vi\n",
    "\n",
    "    tmp =sum((1-wi/sum(wi))**2 / (ni-1))\n",
    "    tmp /= (k**2 -1)\n",
    "\n",
    "    dfbn = k - 1\n",
    "    dfwn = 1 / (3 * tmp)\n",
    "\n",
    "    m = sum(mi*wi) / sum(wi)\n",
    "    f = sum(wi * (mi - m)**2) /((dfbn) * (1 + 2 * (dfbn - 1) * tmp))\n",
    "    prob = spec.fdtrc(dfbn, dfwn, f)   # equivalent to stats.f.sf\n",
    "    return F_onewayResult(f, prob)"
   ]
  },
  {
   "cell_type": "code",
   "execution_count": 29,
   "metadata": {},
   "outputs": [
    {
     "data": {
      "text/plain": [
       "F_onewayResult(statistic=1828.0919450856877, pvalue=2.693327358715152e-66)"
      ]
     },
     "execution_count": 29,
     "metadata": {},
     "output_type": "execute_result"
    }
   ],
   "source": [
    "# Perform the test.\n",
    "welch_anova_np(\n",
    "    dependent[independent == 'Setosa'],\n",
    "    dependent[independent == 'Versicolor'],\n",
    "    dependent[independent == 'Virginica']\n",
    ")"
   ]
  },
  {
   "cell_type": "markdown",
   "metadata": {},
   "source": [
    "#### Conclusion: the mean petal lengths of setosas, versicolors, and virginicas are different."
   ]
  },
  {
   "cell_type": "markdown",
   "metadata": {},
   "source": [
    "## References\n",
    "\n",
    "This project is based predominantly on the lecture materials given by Dr. Ian McLoughlin - not explicitly quoted in the body of the notebook, but referenced in the below list.\n",
    "\n",
    "1. Statistical functions (scipy.stats) — scipy v1.7.1 manual,” 2021. [Online]. Available:\n",
    "https://docs.scipy.org/doc/scipy/reference/stats.html\n",
    "\n",
    "2.\thttps://en.wikipedia.org/wiki/Iris_flower_data_set\n",
    "3.\thttps://github.com/RitRa/Project2018-iris/blob/master/Project%2B2018%2B-%2BFishers%2BIris%2Bdata%2Bset%2Banalysis.ipynb\n",
    "4.\thttps://tableconvert.com/?output=csv&data=https://gist.github.com/netj/8836201/raw/6f9306ad21398ea43cba4f7d537619d0e07d5ae3/iris.csv\n",
    "5.\thttps://realpython.com/python-csv/\n",
    "6.\thttps://stackoverflow.com/questions/1526607/extracting-data-from-a-csv-file-in-python\n",
    "7.\thttps://pandas.pydata.org/pandas-docs/stable/reference/api/pandas.read_csv.html\n",
    "8. https://github.com/ianmcloughlin/jupyter-teaching-notebooks/blob/main/ttest.ipynb\n",
    "9. https://github.com/ianmcloughlin/jupyter-teaching-notebooks/blob/main/anova.ipynb\n",
    "10. https://www.qualtrics.com/uk/experience-management/research/anova/\n",
    "11. https://docs.scipy.org/doc/scipy/reference/generated/scipy.stats.ttest_ind.html\n",
    "12. https://statistics.laerd.com/spss-tutorials/one-way-anova-using-spss-statistics.php\n",
    "13. https://github.com/ianmcloughlin/python_anova/blob/main/one_way_anova.ipynb\n",
    "14. https://www.statisticshowto.com/welchs-anova/\n",
    "15. https://docs.scipy.org/doc/scipy/reference/generated/scipy.stats.levene.html\n",
    "16. https://statistics.laerd.com/statistical-guides/independent-t-test-statistical-guide.php\n",
    "17. https://docs.scipy.org/doc/scipy/reference/generated/scipy.stats.shapiro.html\n",
    "18. https://statistics.laerd.com/spss-tutorials/testing-for-normality-using-spss-statistics.php\n",
    "19. https://statistics.laerd.com/spss-tutorials/independent-t-test-using-spss-statistics.php"
   ]
  },
  {
   "cell_type": "markdown",
   "metadata": {},
   "source": [
    "# End"
   ]
  },
  {
   "cell_type": "code",
   "execution_count": null,
   "metadata": {},
   "outputs": [],
   "source": []
  }
 ],
 "metadata": {
  "kernelspec": {
   "display_name": "Python 3",
   "language": "python",
   "name": "python3"
  },
  "language_info": {
   "codemirror_mode": {
    "name": "ipython",
    "version": 3
   },
   "file_extension": ".py",
   "mimetype": "text/x-python",
   "name": "python",
   "nbconvert_exporter": "python",
   "pygments_lexer": "ipython3",
   "version": "3.8.3"
  }
 },
 "nbformat": 4,
 "nbformat_minor": 4
}
