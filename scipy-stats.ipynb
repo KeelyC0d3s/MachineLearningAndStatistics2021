{
 "cells": [
  {
   "cell_type": "markdown",
   "metadata": {},
   "source": [
    "# scipy.stats\n",
    "### Overview\n",
    "\n",
    "*scipy.stats* is a statistics library for python. It contains a large number of probability distribution and statistical functions[1] \n",
    "\n",
    "For the sake of continuity, I will use the iris dataset to demonstrate some algorithms of the scipy.stats library, specifically t-tests and ANOVA (analysis of variants)."
   ]
  },
  {
   "cell_type": "markdown",
   "metadata": {},
   "source": [
    "## T TESTS\n",
    "\n",
    "T-tests are used to \"quantify the difference of arithmetic means between two samples of data\" [11].\n",
    "For example, if we wanted to observe two samples of petal length and try to determine whether or not they are from the same population of the same species or if the two samples are from different populations of the same species, we could run a t-test and figure that out [Ibid]."
   ]
  },
  {
   "cell_type": "markdown",
   "metadata": {},
   "source": [
    "### Packages"
   ]
  },
  {
   "cell_type": "code",
   "execution_count": null,
   "metadata": {},
   "outputs": [],
   "source": [
    "# Efficient numerical arrays.\n",
    "import numpy as np\n",
    "\n",
    "# Data frames.\n",
    "import pandas as pd\n",
    "\n",
    "# Alternative statistics package.\n",
    "import statsmodels.stats.weightstats as stat\n",
    "\n",
    "# Mains statistics package.\n",
    "import scipy.stats as ss\n",
    "\n",
    "# Plotting.\n",
    "import matplotlib.pyplot as plt\n",
    "\n",
    "# Fancier plotting.\n",
    "import seaborn as sns\n",
    "\n",
    "# Better sized plots.\n",
    "plt.rcParams['figure.figsize'] = (12, 8)\n",
    "\n",
    "# Nicer colours and styles for plots.\n",
    "plt.style.use(\"ggplot\")"
   ]
  },
  {
   "cell_type": "markdown",
   "metadata": {},
   "source": [
    "## T-Test with Iris Dataset"
   ]
  },
  {
   "cell_type": "code",
   "execution_count": null,
   "metadata": {},
   "outputs": [],
   "source": [
    "# Load the iris data set from a URL.\n",
    "iris_data = pd.read_csv('tableconvert_csv_xin5ac.csv')"
   ]
  },
  {
   "cell_type": "code",
   "execution_count": null,
   "metadata": {},
   "outputs": [],
   "source": [
    "s = df[df['species'] == 'setosa']\n",
    "r = df[df['species'] == 'versicolor']\n",
    "a = df[df['species'] == 'virginica']"
   ]
  },
  {
   "cell_type": "code",
   "execution_count": null,
   "metadata": {},
   "outputs": [],
   "source": [
    "print(stats.ttest_ind(s['petal_length'], r['petal_length']))\n",
    "print(stats.ttest_ind(s['petal_length'], a['petal_length']))\n",
    "print(stats.ttest_ind(r['petal_length'], a['petal_length']))\n",
    "\n",
    "print(stats.ttest_ind(s['petal_width'], r['petal_width']))\n",
    "print(stats.ttest_ind(s['petal_width'], a['petal_width']))\n",
    "print(stats.ttest_ind(r['petal_width'], a['petal_width']))\n",
    "\n",
    "print(stats.ttest_ind(s['sepal_length'], r['sepal_length']))\n",
    "print(stats.ttest_ind(s['sepal_length'], a['sepal_length']))\n",
    "print(stats.ttest_ind(r['sepal_length'], a['sepal_length']))\n",
    "\n",
    "print(stats.ttest_ind(s['sepal_width'], r['sepal_width']))\n",
    "print(stats.ttest_ind(s['sepal_width'], a['sepal_width']))\n",
    "print(stats.ttest_ind(r['sepal_width'], a['sepal_width']))"
   ]
  },
  {
   "cell_type": "code",
   "execution_count": null,
   "metadata": {},
   "outputs": [],
   "source": []
  },
  {
   "cell_type": "markdown",
   "metadata": {},
   "source": [
    "## References\n",
    "1. Statistical functions (scipy.stats) — scipy v1.7.1 manual,” 2021. [Online]. Available:\n",
    "https://docs.scipy.org/doc/scipy/reference/stats.html\n",
    "\n",
    "2.\thttps: // en.wikipedia.org/wiki/Iris_flower_data_set\n",
    "3.\thttps: // github.com/RitRa/Project2018-iris/blob/master/Project % 2B2018 % 2B-%2BFishers % 2BIris % 2Bdata % 2Bset % 2Banalysis.ipynb\n",
    "4.\thttps: // tableconvert.com /?output = csv & data = https: // gist.github.com/netj/8836201/raw/6f9306ad21398ea43cba4f7d537619d0e07d5ae3/iris.csv\n",
    "5.\thttps: // realpython.com/python-csv/\n",
    "6.\thttps: // stackoverflow.com/questions/1526607/extracting-data-from-a-csv-file-in-python\n",
    "# pandas.read_csv\n",
    "7.\thttps: // pandas.pydata.org/pandas-docs/stable/reference/api/pandas.read_csv.html\n",
    "8. https://github.com/ianmcloughlin/jupyter-teaching-notebooks/blob/main/ttest.ipynb\n",
    "9. https://github.com/ianmcloughlin/jupyter-teaching-notebooks/blob/main/anova.ipynb\n",
    "10. https://www.qualtrics.com/uk/experience-management/research/anova/\n",
    "11. https://docs.scipy.org/doc/scipy/reference/generated/scipy.stats.ttest_ind.html"
   ]
  }
 ],
 "metadata": {
  "kernelspec": {
   "display_name": "Python 3",
   "language": "python",
   "name": "python3"
  },
  "language_info": {
   "codemirror_mode": {
    "name": "ipython",
    "version": 3
   },
   "file_extension": ".py",
   "mimetype": "text/x-python",
   "name": "python",
   "nbconvert_exporter": "python",
   "pygments_lexer": "ipython3",
   "version": "3.8.3"
  }
 },
 "nbformat": 4,
 "nbformat_minor": 4
}
