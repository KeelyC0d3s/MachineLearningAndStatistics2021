{
 "cells": [
  {
   "cell_type": "markdown",
   "metadata": {},
   "source": [
    "scikit-learn is an opensource python library containing tools for predictive data analysis. The library uses NumPy, SciPy and matplotlib under the hood.\n",
    "\n",
    "scikit-learn provies tools to help with:\n",
    " - Classification - Identifying which category an object belongs to\n",
    " - Regression - Predicting a continuous-valued attribute associated with an object\n",
    " - Clustering - Grouping similar objects into sets\n",
    " - Dimensionality reduction - Eliminating random variables from consideration\n",
    " - Model selection - Comparing and validating parameters and models\n",
    " - Preprocessing - Feature extraction and normalization"
   ]
  },
  {
   "cell_type": "code",
   "execution_count": null,
   "metadata": {},
   "outputs": [],
   "source": []
  },
  {
   "cell_type": "code",
   "execution_count": null,
   "metadata": {},
   "outputs": [],
   "source": []
  }
 ],
 "metadata": {
  "kernelspec": {
   "display_name": "Python 3",
   "language": "python",
   "name": "python3"
  },
  "language_info": {
   "codemirror_mode": {
    "name": "ipython",
    "version": 3
   },
   "file_extension": ".py",
   "mimetype": "text/x-python",
   "name": "python",
   "nbconvert_exporter": "python",
   "pygments_lexer": "ipython3",
   "version": "3.8.3"
  }
 },
 "nbformat": 4,
 "nbformat_minor": 4
}
