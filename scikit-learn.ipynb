{
 "cells": [
  {
   "cell_type": "markdown",
   "metadata": {},
   "source": [
    "scikit-learn is an opensource python library containing tools for predictive data analysis. The library uses NumPy, SciPy and matplotlib under the hood.\n",
    "\n",
    "scikit-learn provies tools to help with:\n",
    " - Classification - Identifying which category an object belongs to\n",
    " - Regression - Predicting a continuous-valued attribute associated with an object\n",
    " - Clustering - Grouping similar objects into sets\n",
    " - Dimensionality reduction - Eliminating random variables from consideration\n",
    " - Model selection - Comparing and validating parameters and models\n",
    " - Preprocessing - Feature extraction and normalization"
   ]
  },
  {
   "cell_type": "markdown",
   "metadata": {},
   "source": [
    "For the purposes of this project, using the Irish Dataset, I will be demonstrating three scikit-learn algorithms:"
   ]
  },
  {
   "cell_type": "markdown",
   "metadata": {},
   "source": [
    "I will also be using the following libraries to aid in visualisation and analysis:\n",
    "## Libraries Used\n",
    "```\n",
    "```\n",
    "\n",
    "- **Pandas ** - an open source, BSD-licensed library providing high-performance, easy-to-use data structures and data analysis tools. [2]\n",
    "- **Numpy ** – the fundamental package for scientific computing with Python[2]\n",
    "- **Seaborn ** – a Python visualization library based on matplotlib. It provides a high-level interface for drawing attractive statistical graphics. [2]\n",
    "- **Sys ** - System-specific parameters and functions.\n",
    "This module provides access to some variables used or maintained by the interpreter and to functions that interact strongly with the interpreter. It is always available. [20]\n"
   ]
  },
  {
   "cell_type": "code",
   "execution_count": null,
   "metadata": {},
   "outputs": [],
   "source": [
    "# taken from my previous Iris dataset project\n",
    "\n",
    "from bokeh.plotting import figure, output_file, show\n",
    "import matplotlib.pyplot as plt\n",
    "import sys\n",
    "import seaborn as sns\n",
    "import numpy as np\n",
    "import pandas as pd\n",
    "![image of iris](olga-mandel-gK6f8bKKic0-unsplashIRIS.jpg)\n"
   ]
  },
  {
   "cell_type": "markdown",
   "metadata": {},
   "source": [
    "## Fisher’s Iris Dataset\n",
    "Introduced by British statistician and biologist Ronald Fisher in his 1936 paper entitled “The use of multiple measurements in taxonomic problems”. It is an example of linear discriminate analysis.\n",
    "The dataset gives the measurements in centimetres of the sepal length and width and petal length and width of 50 flowers from each species of iris: setosa, versicolor, and virginica.\n",
    "The dataset contains a set of 150 records of 5 attributes:\n",
    "Sepal length in cm\n",
    "Sepal width in cm\n",
    "Petal length in cm\n",
    "Petal width in cm\n",
    "Species of iris: setosa, versicolor, virginica[1, 2]"
   ]
  },
  {
   "cell_type": "markdown",
   "metadata": {},
   "source": [
    "## Importing the Data\n",
    "Downloading the Iris dataset from the internet using the panda and sys libraries which will enable me to analyse the first few rows of data."
   ]
  },
  {
   "cell_type": "code",
   "execution_count": null,
   "metadata": {},
   "outputs": [],
   "source": [
    "#Downloaded iris dataset from https://tinyurl.com/y8fovkyq\n",
    "\n",
    "sys.stdout = open(\"variables_summary.txt\", \"w\")\n",
    "\n",
    "iris_data = pd.read_csv('tableconvert_csv_xin5ac.csv')\n",
    "\n",
    "iris_data.columns = ['sepal_length', 'sepal_width',\n",
    "                     'petal_length', 'petal_width', 'variety']\n",
    "\n",
    "iris_data.head(10)\n",
    "\n",
    "iris_data.shape\n",
    "#print(iris_data)\n"
   ]
  },
  {
   "cell_type": "markdown",
   "metadata": {},
   "source": [
    "## Investigating the Data: Finding the Min, Max, Mean, and Standard Deviation"
   ]
  },
  {
   "cell_type": "code",
   "execution_count": null,
   "metadata": {},
   "outputs": [],
   "source": [
    "#Get the minimum value of all the columns\n",
    "print(\"\\nMinimum\")\n",
    "print(iris_data.min())\n",
    "\n",
    "#Get the maximum value of all the columns\n",
    "print(\"\\nMaximum\")\n",
    "print(iris_data.max())\n",
    "\n",
    "#Get the mean value of all the columns\n",
    "print(\"\\nMean\")\n",
    "print(iris_data.mean())\n",
    "\n",
    "#Get the median value of all the columns\n",
    "print(\"\\nMedian\")\n",
    "print(iris_data.median())\n",
    "\n",
    "#Get the standard deviation of all the columns\n",
    "print(\"\\nStandard Deviation\")\n",
    "print(iris_data.std())\n",
    "\n",
    "print(iris_data['variety'].unique())\n"
   ]
  },
  {
   "cell_type": "markdown",
   "metadata": {},
   "source": [
    "## Summary Chart (or a much nicer view of the min, max, mean, std dev)"
   ]
  },
  {
   "cell_type": "code",
   "execution_count": null,
   "metadata": {},
   "outputs": [],
   "source": [
    "#Gathered a summary of the data (count, mean, std deviation, minumin, 25%, 50%, 75%, maximum)\n",
    "#Used call chaining to make code look pretty.\n",
    "\n",
    "summary = iris_data.describe().transpose().head()\n",
    "print(summary)\n",
    "\n",
    "sys.stdout.close()\n"
   ]
  },
  {
   "cell_type": "markdown",
   "metadata": {},
   "source": [
    "## Analysis:\n",
    "Judging from the above chart, we can see a big range between sepal length and petal length. Next, we will see if this range is determined by the species of iris."
   ]
  },
  {
   "cell_type": "markdown",
   "metadata": {},
   "source": [
    "## Boxplots\n",
    "Boxplots are useful because they offer a quick and visually pleasing way to compare data[2][11].\n",
    "In this case, I have four separate boxplots comparing the distributions across the variables and varieties of iris. First, I compare the sepal length, then sepal width, then the petal length and then, finally, the petal width for each species: Setosa, Versicolor, Virginica"
   ]
  },
  {
   "cell_type": "code",
   "execution_count": null,
   "metadata": {},
   "outputs": [],
   "source": [
    "sns.set(style=\"whitegrid\", palette=\"BuGn_r\",\n",
    "        rc={'figure.figsize': (11.7, 8.27)})\n",
    "\n",
    "title = \"Compare Distributions of Sepal Length\"\n",
    "\n",
    "sns.boxplot(x=\"variety\", y=\"sepal_length\", data=iris_data)\n",
    "```\n",
    "\n",
    "\n",
    "![image of sepal length](Compare % 20Distributions % 20of % 20Sepal % 20Length.png)\n"
   ]
  },
  {
   "cell_type": "code",
   "execution_count": null,
   "metadata": {},
   "outputs": [],
   "source": [
    "sns.set(style=\"whitegrid\", palette=\"BuGn_r\",\n",
    "        rc={'figure.figsize': (11.7, 8.27)})\n",
    "\n",
    "title = \"Compare Distributions of Sepal Width\"\n",
    "\n",
    "sns.boxplot(x=\"species\", y=\"sepal_width\", data=iris_data)\n",
    "```\n",
    "![image of sepal width](Compare % 20Distributions % 20of % 20Sepal % 20Width.png)\n",
    "\n",
    "```\n",
    "\n",
    "sns.set(style=\"whitegrid\", palette=\"BuGn_r\",\n",
    "        rc={'figure.figsize': (11.7, 8.27)})\n",
    "\n",
    "title = \"Compare Distributions of Petal Length\"\n",
    "\n",
    "sns.boxplot(x=\"variety\", y=\"petal_length\", data=iris_data)\n",
    "```\n",
    "\n",
    "![image of petal length](Compare % 20Distributions % 20of % 20Petal % 20Length.png)\n",
    "\n",
    "```\n",
    "\n",
    "sns.set(style=\"whitegrid\", palette=\"BuGn_r\",\n",
    "        rc={'figure.figsize': (11.7, 8.27)})\n",
    "\n",
    "title = \"Compare Distributions of Petal Width\"\n",
    "\n",
    "sns.boxplot(x=\"variety\", y=\"petal_width\", data=iris_data)\n",
    "```\n",
    "\n",
    "![image of petal width](Compare % 20Distributions % 20of % 20Petal % 20Width.png)\n"
   ]
  },
  {
   "cell_type": "markdown",
   "metadata": {},
   "source": [
    "## Scatterplots\n",
    "With scatterplots we can use variables to show that there is distinct difference in sizes between the species."
   ]
  },
  {
   "cell_type": "code",
   "execution_count": null,
   "metadata": {},
   "outputs": [],
   "source": [
    "output_file(\"test1.html\")\n",
    "\n",
    "color1 = '#FF1493'\n",
    "color2 = '#9400D3'\n",
    "color3 = '#008080'\n",
    "\n",
    "#Adding colours\n",
    "colormap = {'Setosa': color1, 'Versicolor': color2, 'Virginica': color3}\n",
    "colors = [colormap[x] for x in iris_data['variety']]\n",
    "\n",
    "#Comparing Petal Width and Petal Length across all three species\n",
    "p = figure(title=\"Petal Width and Petal Length\")\n",
    "p.xaxis.axis_label = 'Petal Length'\n",
    "p.yaxis.axis_label = 'Petal Width'\n",
    "p.legend.location = \"top_left\"\n",
    "\n",
    "p.diamond(iris_data[\"petal_length\"], iris_data[\"petal_width\"],\n",
    "          color=colors, fill_alpha=0.2, size=10)\n",
    "\n",
    "show(p)\n",
    "\n",
    "#Comparing Sepal Width and Sepal Length across all three species\n",
    "output_file(\"test2.html\")\n",
    "\n",
    "#adding colors\n",
    "colormap = {'Setosa': color1, 'Versicolor': color2, 'Virginica': color3}\n",
    "colors = [colormap[x] for x in iris_data['variety']]\n",
    "\n",
    "#adding labels\n",
    "p = figure(title=\"Sepal Width and Sepal Length\")\n",
    "p.xaxis.axis_label = 'Sepal Length'\n",
    "p.yaxis.axis_label = 'Sepal Width'\n",
    "\n",
    "p.circle(iris_data[\"sepal_length\"], iris_data[\"sepal_width\"],\n",
    "         color=colors, fill_alpha=0.2, size=10)\n",
    "\n",
    "show(p)\n",
    "```\n",
    "\n",
    "![image of petal scatterplot](Petal % 20Length % 20 and %20Width % 20Scatterplot.PNG)\n",
    "\n",
    "![image of sepal scatterplot](Sepal % 20Length % 20 and %20Width % 20Scatterplot.PNG)\n"
   ]
  },
  {
   "cell_type": "markdown",
   "metadata": {},
   "source": [
    "## Analysis:\n",
    "In the scatterplots we can see that the iris Setosa is clearly the smallest flower in terms of both sepal length and width and petal length and width. Iris Virginica, as we can see in the scatterplots, is the largest."
   ]
  },
  {
   "cell_type": "markdown",
   "metadata": {},
   "source": [
    "## Pairplot\n",
    "I decided to use a pairplot here because it “creates a matrix of axes and shows the relationship for each pair of columns in a data frame. By default, it also draws the univariate distribution of each variable on the diagonal axis”[12].\n",
    "This way, we have all the data points available to us in one place to analyse.\n",
    "```"
   ]
  },
  {
   "cell_type": "code",
   "execution_count": null,
   "metadata": {},
   "outputs": [],
   "source": [
    "sns.pairplot(iris_data, hue=\"variety\",\n",
    "             palette=\"GnBu_d\", markers=[\"o\", \"s\", \"D\"])\n",
    "\n",
    "plt.show()\n",
    "```\n",
    "\n",
    "![image of pairplot](Histogram % 20of % 20Iris % 20Dataset.png)\n"
   ]
  },
  {
   "cell_type": "markdown",
   "metadata": {},
   "source": [
    "## References:\n",
    "1.\thttps: // en.wikipedia.org/wiki/Iris_flower_data_set\n",
    "2.\thttps: // github.com/RitRa/Project2018-iris/blob/master/Project % 2B2018 % 2B-%2BFishers % 2BIris % 2Bdata % 2Bset % 2Banalysis.ipynb\n",
    "3.\thttps: // tableconvert.com /?output = csv & data = https: // gist.github.com/netj/8836201/raw/6f9306ad21398ea43cba4f7d537619d0e07d5ae3/iris.csv\n",
    "4.\thttps: // realpython.com/python-csv/\n",
    "5.\thttps: // stackoverflow.com/questions/1526607/extracting-data-from-a-csv-file-in-python\n",
    "# pandas.read_csv\n",
    "6.\thttps: // pandas.pydata.org/pandas-docs/stable/reference/api/pandas.read_csv.html\n",
    "7.\thttps: // www.w3schools.com/python/numpy_intro.asp\n",
    "8.\thttps: // seaborn.pydata.org/generated/seaborn.boxplot.html\n",
    "9.\thttps: // seaborn.pydata.org/tutorial/color_palettes.html\n",
    "10.\thttps: // github.com/adam-p/markdown-here/wiki/Markdown-Cheatsheet\n",
    "11.\thttps: // seaborn.pydata.org/generated/seaborn.scatterplot.html\n",
    "12.\thttps: // seaborn.pydata.org/tutorial/distributions.html\n",
    "13.\thttps: // docs.bokeh.org/en/latest/docs/reference/plotting.html\n",
    "14.\thttps: // docs.bokeh.org/en/latest/docs/reference/colors.html\n",
    "15.\thttps: // www.w3schools.com/colors/colors_groups.asp\n",
    "16.\thttps: // www.kaggle.com/abhishekkrg/python-iris-data-visualization-and-explanation/data\n",
    "17.\thttps: // stackoverflow.com/questions/7152762/how-to-redirect-print-output-to-a-file-using-python\n",
    "18.\thttps: // kite.com/python/answers/how-to-redirect-print-output-to-a-text-file-in-python\n",
    "19.\thttps: // unsplash.com/photos/gK6f8bKKic0\n",
    "20.\thttps: // docs.python.org/3/library/sys.html\n",
    "21.\thttps: // en.wikipedia.org/wiki/Iris_setosa\n",
    "22.\thttps: // en.wikipedia.org/wiki/Iris_versicolor\n",
    "23.\thttps: // en.wikipedia.org/wiki/Iris_virginica\n",
    "24.\thttps: // github.com/vwalsh86/Iris-Data-Set-Project"
   ]
  }
 ],
 "metadata": {
  "kernelspec": {
   "display_name": "Python 3",
   "language": "python",
   "name": "python3"
  },
  "language_info": {
   "codemirror_mode": {
    "name": "ipython",
    "version": 3
   },
   "file_extension": ".py",
   "mimetype": "text/x-python",
   "name": "python",
   "nbconvert_exporter": "python",
   "pygments_lexer": "ipython3",
   "version": "3.8.3"
  }
 },
 "nbformat": 4,
 "nbformat_minor": 4
}
